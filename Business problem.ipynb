{
 "cells": [
  {
   "cell_type": "markdown",
   "metadata": {
    "collapsed": true
   },
   "source": [
    "# To open a coffee shop in Central Bangalore"
   ]
  },
  {
   "cell_type": "markdown",
   "metadata": {},
   "source": [
    "# Introduction:\n",
    "    This report helps to setup a new coffee shop/ cafe in Central Bangalore or a new coffee machine and it helps to find the best location to place a new shop\n",
    "    \n",
    "    "
   ]
  },
  {
   "cell_type": "markdown",
   "metadata": {},
   "source": [
    "# Background\n",
    "    Selecting the right location for a business is one of the first and very important decisions in running a business. Starting a new business in a metropolitan city such as Bangalore can be challenging. Central Bangalore has 11 neighborhoods with various places that attract tourists and people to visit. It is important to evaluate different neighborhoods based on the factors that are important for running a successful business such as the number of competitors and the potential demand in that neighborhood. Budget limitations in renting or buying a place play an important role in location decision making for small businesses"
   ]
  },
  {
   "cell_type": "markdown",
   "metadata": {},
   "source": [
    "# Business problem\n",
    "    In this Capstone project, I wanted to find the best neighborhood in Central Bangalore to open a Coffee shop. The challenge is to find a suitable neighborhood which is close enough to some amenities and venues, has fewer competitors, and of course is affordable to rent. A coffee shop is good to be near a place where many people visit such as near a cinema, park, garden, playground, Tech park and theater. Based  on a limited budget, and I need to consider it in my search.The neighborhoods could be ranked when considering the amenities around it, rent price, and the number of competitors."
   ]
  }
 ],
 "metadata": {
  "kernelspec": {
   "display_name": "Python 3.6",
   "language": "python",
   "name": "python3"
  },
  "language_info": {
   "codemirror_mode": {
    "name": "ipython",
    "version": 3
   },
   "file_extension": ".py",
   "mimetype": "text/x-python",
   "name": "python",
   "nbconvert_exporter": "python",
   "pygments_lexer": "ipython3",
   "version": "3.6.8"
  }
 },
 "nbformat": 4,
 "nbformat_minor": 1
}
