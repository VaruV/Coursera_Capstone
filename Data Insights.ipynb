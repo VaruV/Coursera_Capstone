{
 "cells": [
  {
   "cell_type": "markdown",
   "metadata": {
    "collapsed": true
   },
   "source": [
    "# Data\n",
    "    In the data section , I will extract the 11 neighborhoods of  Central Bangalore from the link:\n",
    "    https://en.wikipedia.org/wiki/List_of_neighbourhoods_in_Bangalore"
   ]
  },
  {
   "cell_type": "markdown",
   "metadata": {},
   "source": [
    "    * Geocoder Python package will be used to get the latitude and longitude of all the neihborhoods in Central Bangalore\n",
    "    * Foursquare API is used to get the  venues of each  neighborhood\n",
    "    * Rent prices are obtained from the following link\n",
    "        https://www.makaan.com/price-trends/property-rates-for-rent-in-bangalore"
   ]
  }
 ],
 "metadata": {
  "kernelspec": {
   "display_name": "Python 3.6",
   "language": "python",
   "name": "python3"
  },
  "language_info": {
   "codemirror_mode": {
    "name": "ipython",
    "version": 3
   },
   "file_extension": ".py",
   "mimetype": "text/x-python",
   "name": "python",
   "nbconvert_exporter": "python",
   "pygments_lexer": "ipython3",
   "version": "3.6.8"
  }
 },
 "nbformat": 4,
 "nbformat_minor": 1
}
